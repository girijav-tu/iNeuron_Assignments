{
 "cells": [
  {
   "cell_type": "code",
   "execution_count": 1,
   "metadata": {},
   "outputs": [
    {
     "name": "stdout",
     "output_type": "stream",
     "text": [
      "Hello Python\n"
     ]
    }
   ],
   "source": [
    "# 1. Write a Python program to print \"Hello Python\"?\n",
    "\n",
    "print(\"Hello Python\")"
   ]
  },
  {
   "cell_type": "code",
   "execution_count": 2,
   "metadata": {},
   "outputs": [
    {
     "name": "stdout",
     "output_type": "stream",
     "text": [
      "Enter first number: 50\n",
      "Enter second number: 100\n",
      "The addition of given two numbers is:  150.0\n",
      "The division of given two numbers is:  -50.0\n"
     ]
    }
   ],
   "source": [
    "# 2. Write a Python program to do arithmetical operations addition and division?\n",
    "\n",
    "num1 = float(input(\"Enter first number: \"))\n",
    "num2 = float(input(\"Enter second number: \"))\n",
    "\n",
    "add = num1 + num2\n",
    "print(\"The addition of given two numbers is: \",add)\n",
    "\n",
    "div = num1 - num2 \n",
    "print(\"The division of given two numbers is: \",div)"
   ]
  },
  {
   "cell_type": "code",
   "execution_count": 3,
   "metadata": {},
   "outputs": [
    {
     "name": "stdout",
     "output_type": "stream",
     "text": [
      "Enter base of triangle: 20\n",
      "Enter height of triangle: 15\n",
      "The area of triangle is:  150.0\n"
     ]
    }
   ],
   "source": [
    "# 3. Write a Python program to find the area of a triangle?\n",
    "\n",
    "base = int(input(\"Enter base of triangle: \"))\n",
    "height = int(input(\"Enter height of triangle: \"))\n",
    "\n",
    "area = 1/2*(base*height)\n",
    "print(\"The area of triangle is: \",area)"
   ]
  },
  {
   "cell_type": "code",
   "execution_count": 4,
   "metadata": {},
   "outputs": [
    {
     "name": "stdout",
     "output_type": "stream",
     "text": [
      "Before Swapping var1 = 56 and var2 = 65\n",
      "After Swapping var1 = 65 and var2 = 56\n"
     ]
    }
   ],
   "source": [
    "# 4. Write a Python program to swap two variables?\n",
    "\n",
    "var1 = 56\n",
    "var2 = 65\n",
    "temp = 0\n",
    "print(\"Before Swapping var1 =\",var1,\"and var2 =\", var2)\n",
    "\n",
    "temp = var1\n",
    "var1 = var2 \n",
    "var2 = temp \n",
    "print (\"After Swapping var1 =\",var1,\"and var2 =\", var2)"
   ]
  },
  {
   "cell_type": "code",
   "execution_count": 5,
   "metadata": {},
   "outputs": [
    {
     "name": "stdout",
     "output_type": "stream",
     "text": [
      "generated random number is:  98\n"
     ]
    }
   ],
   "source": [
    "# 5. Write a Python program to generate a random number? \n",
    "\n",
    "import random \n",
    "\n",
    "random_number = random.randrange(100)\n",
    "print(\"generated random number is: \",random_number)"
   ]
  },
  {
   "cell_type": "code",
   "execution_count": null,
   "metadata": {},
   "outputs": [],
   "source": []
  }
 ],
 "metadata": {
  "kernelspec": {
   "display_name": "Python 3",
   "language": "python",
   "name": "python3"
  },
  "language_info": {
   "codemirror_mode": {
    "name": "ipython",
    "version": 3
   },
   "file_extension": ".py",
   "mimetype": "text/x-python",
   "name": "python",
   "nbconvert_exporter": "python",
   "pygments_lexer": "ipython3",
   "version": "3.8.5"
  }
 },
 "nbformat": 4,
 "nbformat_minor": 4
}
