{
 "cells": [
  {
   "cell_type": "code",
   "execution_count": 1,
   "metadata": {},
   "outputs": [
    {
     "name": "stdout",
     "output_type": "stream",
     "text": [
      "Enter the value in kilometer as a unit: 150\n",
      "The value in miles is:  93.2055\n"
     ]
    }
   ],
   "source": [
    "# 1. Write a Python program to convert kilometers to miles?\n",
    "\n",
    "Kilometer = float(input(\"Enter the value in kilometer as a unit: \"))\n",
    "conversionRatio = 0.62137\n",
    "Miles = Kilometer * conversionRatio\n",
    "print(\"The value in miles is: \",Miles)"
   ]
  },
  {
   "cell_type": "code",
   "execution_count": 2,
   "metadata": {},
   "outputs": [
    {
     "name": "stdout",
     "output_type": "stream",
     "text": [
      "Enter the value in celsius as a unit: 56\n",
      "56.0 degree Celsius is equal to 132.8 degree Fahrenheit\n"
     ]
    }
   ],
   "source": [
    "# 2. Write a Python program to convert Celsius to Fahrenheit?\n",
    "\n",
    "Celsius = float(input(\"Enter the value in celsius as a unit: \"))\n",
    "Fahrenheit = (Celsius*1.8)+32\n",
    "print('%0.1f degree Celsius is equal to %0.1f degree Fahrenheit' %(Celsius,Fahrenheit))"
   ]
  },
  {
   "cell_type": "code",
   "execution_count": 3,
   "metadata": {},
   "outputs": [
    {
     "name": "stdout",
     "output_type": "stream",
     "text": [
      "Enter year: 2021\n",
      "Enter month: 09\n",
      "   September 2021\n",
      "Mo Tu We Th Fr Sa Su\n",
      "       1  2  3  4  5\n",
      " 6  7  8  9 10 11 12\n",
      "13 14 15 16 17 18 19\n",
      "20 21 22 23 24 25 26\n",
      "27 28 29 30\n",
      "\n"
     ]
    }
   ],
   "source": [
    "# 3. Write a Python program to display calendar?\n",
    "\n",
    "import calendar\n",
    "\n",
    "year = int(input(\"Enter year: \"))\n",
    "month = int(input(\"Enter month: \"))\n",
    "\n",
    "print(calendar.month(year, month))\n"
   ]
  },
  {
   "cell_type": "code",
   "execution_count": 4,
   "metadata": {},
   "outputs": [
    {
     "name": "stdout",
     "output_type": "stream",
     "text": [
      "Enter a: 8\n",
      "Enter b: 5\n",
      "Enter c: 2\n",
      "The solution of two roots are:  (-20-24.979991993593593j) (-20+24.979991993593593j)\n"
     ]
    }
   ],
   "source": [
    "# 4. Write a Python program to solve quadratic equation?\n",
    "\n",
    "import cmath\n",
    "a = float(input(\"Enter a: \"))\n",
    "b = float(input(\"Enter b: \"))\n",
    "c = float(input(\"Enter c: \"))\n",
    "\n",
    "# calculating discriminant\n",
    "d = (b**2)-4*a*c\n",
    "\n",
    "# calculating two solutions \n",
    "soln1 = (-b-cmath.sqrt(d))/2*a\n",
    "soln2 = (-b+cmath.sqrt(d))/2*a\n",
    "print(\"The solution of two roots are: \",soln1,soln2)"
   ]
  },
  {
   "cell_type": "code",
   "execution_count": 5,
   "metadata": {},
   "outputs": [
    {
     "name": "stdout",
     "output_type": "stream",
     "text": [
      "Enter value for x: 89\n",
      "Enter value for y: 98\n",
      "Before swapping the values of x and y are: 89 98\n",
      "After swapping the values of x and y are: 98 89\n"
     ]
    }
   ],
   "source": [
    "# 5. Write a Python program to swap two variables without temp variable?\n",
    "\n",
    "x = int(input(\"Enter value for x: \"))\n",
    "y = int(input(\"Enter value for y: \"))\n",
    "print(\"Before swapping the values of x and y are:\",x,y)\n",
    "\n",
    "x,y = y,x\n",
    "print(\"After swapping the values of x and y are:\",x,y)"
   ]
  },
  {
   "cell_type": "code",
   "execution_count": null,
   "metadata": {},
   "outputs": [],
   "source": []
  }
 ],
 "metadata": {
  "kernelspec": {
   "display_name": "Python 3",
   "language": "python",
   "name": "python3"
  },
  "language_info": {
   "codemirror_mode": {
    "name": "ipython",
    "version": 3
   },
   "file_extension": ".py",
   "mimetype": "text/x-python",
   "name": "python",
   "nbconvert_exporter": "python",
   "pygments_lexer": "ipython3",
   "version": "3.8.5"
  }
 },
 "nbformat": 4,
 "nbformat_minor": 4
}
